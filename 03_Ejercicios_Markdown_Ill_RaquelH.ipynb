{
 "cells": [
  {
   "cell_type": "markdown",
   "id": "ecc0be9a-e6df-4040-be2a-044d046ee4b0",
   "metadata": {},
   "source": [
    "Ejercicio 1 Cabeceras"
   ]
  },
  {
   "cell_type": "markdown",
   "id": "078624f7-20c8-4ed4-93d2-14c0d4f157ed",
   "metadata": {},
   "source": [
    "# Ciencia de datos #\n",
    "## Introduccion ##\n",
    "### Herramientas ###\n"
   ]
  },
  {
   "cell_type": "markdown",
   "id": "d1e8b6d8-ccb4-4e58-8def-ac27ef92d681",
   "metadata": {},
   "source": [
    "Ejercicio 2"
   ]
  },
  {
   "cell_type": "markdown",
   "id": "242ed617-349d-47a8-8161-3f02ce6d3959",
   "metadata": {},
   "source": [
    "Estoy apriendiendo a utilizar **Markdown** y se que lo dominaré.  \n",
    "Creo que tengo otra versión de *Jupyter* porque me sale al lado la reproducción directamente.  \n",
    "Tengo muchas ganas de aprender ***Python***.  "
   ]
  },
  {
   "cell_type": "markdown",
   "id": "d921ea7c-5298-4bba-a25c-cfe4d15aea56",
   "metadata": {},
   "source": [
    "**Aquí**, con **Markdown**  \n",
    "Y *Jupyter* se ha unido al grupo  \n",
    "¿Ganas? Ganazas de aprender ***Python***"
   ]
  },
  {
   "cell_type": "markdown",
   "id": "4d56abe6-c626-4a3d-b351-f4f25a2a9065",
   "metadata": {},
   "source": [
    "Ejercicio 3\n"
   ]
  },
  {
   "cell_type": "markdown",
   "id": "ec7fc4f3-eb89-4156-9492-0a1e5b9d8b61",
   "metadata": {},
   "source": [
    "<span style=\"color:blue; font-weight:bold;\">color</span>      \n",
    "\n",
    "<span style=\"color:blue; background-color:yellow ; font-weight:bold;\">Resaltado</span>  \n",
    "<span style=\"color:blue; font-weight:bold;\">color</span>    \n",
    "\n",
    "<span style=\"color:blue; background-color:yellow ; font-weight:bold;\">Resaltado</span>  \n",
    "<span style=\"color:blue; font-weight:bold;\">color</span> "
   ]
  },
  {
   "cell_type": "markdown",
   "id": "a7481a2c-674b-483e-85e8-6143ede77c65",
   "metadata": {},
   "source": [
    "Ejercicio 4\n"
   ]
  },
  {
   "cell_type": "markdown",
   "id": "536cf85e-9354-48d8-89ca-6a4f67f6896b",
   "metadata": {},
   "source": [
    ">La Ciencia de Datos es el petróleo del siglo XXI\n"
   ]
  },
  {
   "cell_type": "markdown",
   "id": "4f968482-b5b0-41ef-879e-948a503ab022",
   "metadata": {},
   "source": [
    ">La Ciencia de Datos es el petróleo del siglo XXI\n",
    "\n",
    ">> La Ciencia de Datos es el petróleo del siglo XXI\n"
   ]
  },
  {
   "cell_type": "markdown",
   "id": "06a222df-0319-49e9-84f0-df600c4ac6d4",
   "metadata": {},
   "source": [
    ">La Ciencia de Datos es el petróleo del siglo XXI\n",
    "\n",
    ">> La Ciencia de Datos es el petróleo del siglo XXI"
   ]
  },
  {
   "cell_type": "markdown",
   "id": "dee2abe6-be74-4c62-b98c-5696513743e3",
   "metadata": {},
   "source": [
    "Ejercicio 5"
   ]
  },
  {
   "cell_type": "markdown",
   "id": "f0fd1a75-b849-4d6f-b6a1-cebe3c60a32b",
   "metadata": {},
   "source": [
    "## \"Curso de Markdown\".  \n",
    "La constancia y las ganas es lo más **importante**  \n",
    "> Aprender es crecer\n",
    "\n",
    "<span style=\"background-color:green\">*Ejemplo*</span>"
   ]
  },
  {
   "cell_type": "code",
   "execution_count": null,
   "id": "e58801ae-e646-498a-8dcb-29336ac0c062",
   "metadata": {},
   "outputs": [],
   "source": []
  }
 ],
 "metadata": {
  "kernelspec": {
   "display_name": "Python 3 (ipykernel)",
   "language": "python",
   "name": "python3"
  },
  "language_info": {
   "codemirror_mode": {
    "name": "ipython",
    "version": 3
   },
   "file_extension": ".py",
   "mimetype": "text/x-python",
   "name": "python",
   "nbconvert_exporter": "python",
   "pygments_lexer": "ipython3",
   "version": "3.13.5"
  }
 },
 "nbformat": 4,
 "nbformat_minor": 5
}
