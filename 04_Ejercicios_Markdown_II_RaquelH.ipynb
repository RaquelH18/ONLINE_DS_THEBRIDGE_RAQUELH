{
 "cells": [
  {
   "cell_type": "markdown",
   "id": "65fd6e41-4a8e-44d4-8094-a0e3c1cd99f2",
   "metadata": {},
   "source": [
    "Ejercicio 6"
   ]
  },
  {
   "cell_type": "markdown",
   "id": "9e78e3ec-31d1-4781-bfa8-2ab06c6e50e9",
   "metadata": {},
   "source": [
    "1. Manzanas\n",
    "2. Platanos \n",
    "3. Uvas "
   ]
  },
  {
   "cell_type": "markdown",
   "id": "dfede9ac-7126-44ef-8b46-325067fff50f",
   "metadata": {},
   "source": [
    "* Manzanas\n",
    "*  Platanos\n",
    "*  Uvas "
   ]
  },
  {
   "cell_type": "markdown",
   "id": "ef28f9ff-d921-40d2-aba4-867e6aa05395",
   "metadata": {},
   "source": [
    "* Manzanas\n",
    "*  Platanos\n",
    "*  Uvas "
   ]
  },
  {
   "cell_type": "markdown",
   "id": "97af2719-4a35-4bec-9f75-d4351a5561ef",
   "metadata": {},
   "source": [
    "1. Árbol binario\n",
    "2. Random Forest\n",
    "3. Regresión Logística"
   ]
  },
  {
   "cell_type": "markdown",
   "id": "d58157b2-7021-43c2-a601-92d895bbc159",
   "metadata": {},
   "source": [
    "1. Árbol binario\n",
    "2. Random Forest\n",
    "3. Regresión Logística"
   ]
  },
  {
   "cell_type": "markdown",
   "id": "d98640c6-40e7-4a72-9e29-76d50c4c59a6",
   "metadata": {},
   "source": [
    "Ejercicio 7"
   ]
  },
  {
   "cell_type": "markdown",
   "id": "eb3a25a3-afed-4b94-8d9e-515baa92b98f",
   "metadata": {},
   "source": [
    "## FRUTAS Y VERDURAS ##  \n",
    "1. Frutas\n",
    "* Fresa  \n",
    "* Plátano  \n",
    "* Manzana\n",
    "\n",
    "2. Verduras\n",
    "* lechuga \n",
    "* Zanahoria \n",
    "* Brocoli\n",
    "  "
   ]
  },
  {
   "cell_type": "markdown",
   "id": "6d793c19-d1f7-4f99-bc3a-c9d2e9f5afe5",
   "metadata": {},
   "source": [
    "Ejercicio 8"
   ]
  },
  {
   "attachments": {
    "f4c18a2f-53ee-4c84-8625-a6ed14b57676.png": {
     "image/png": "[encoded data removed]"
    }
   },
   "cell_type": "markdown",
   "id": "c53085a1-d95d-46b4-a403-89a25f994e8a",
   "metadata": {},
   "source": [
    "1. [Por aquí se cruzan puentes](https://thebridge.tech/)\n",
    "2. ![the-bridge-1 LOGO.png](attachment:f4c18a2f-53ee-4c84-8625-a6ed14b57676.png)\n"
   ]
  },
  {
   "cell_type": "markdown",
   "id": "be2ee094-539b-4137-8f0a-3e1fa9a9171d",
   "metadata": {},
   "source": [
    "Ejercicio 9"
   ]
  },
  {
   "cell_type": "code",
   "execution_count": 6,
   "id": "57f03943-3ce1-4057-b347-0a99d2abebac",
   "metadata": {},
   "outputs": [
    {
     "name": "stdout",
     "output_type": "stream",
     "text": [
      "Hola Mundo\n"
     ]
    }
   ],
   "source": [
    "print(\"Hola Mundo\")"
   ]
  },
  {
   "cell_type": "markdown",
   "id": "216fc914-d36f-49a3-8499-1aedc2fb93a9",
   "metadata": {},
   "source": [
    "---"
   ]
  },
  {
   "cell_type": "code",
   "execution_count": null,
   "id": "0e60338b-b3d8-41da-900b-f89f3999d9a7",
   "metadata": {},
   "outputs": [],
   "source": [
    "-"
   ]
  }
 ],
 "metadata": {
  "kernelspec": {
   "display_name": "Python 3 (ipykernel)",
   "language": "python",
   "name": "python3"
  },
  "language_info": {
   "codemirror_mode": {
    "name": "ipython",
    "version": 3
   },
   "file_extension": ".py",
   "mimetype": "text/x-python",
   "name": "python",
   "nbconvert_exporter": "python",
   "pygments_lexer": "ipython3",
   "version": "3.13.5"
  }
 },
 "nbformat": 4,
 "nbformat_minor": 5
}
