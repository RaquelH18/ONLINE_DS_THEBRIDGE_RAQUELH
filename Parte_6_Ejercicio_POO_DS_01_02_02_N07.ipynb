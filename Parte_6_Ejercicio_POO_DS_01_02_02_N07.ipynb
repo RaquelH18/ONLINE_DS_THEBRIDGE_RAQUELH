{
  "cells": [
    {
      "cell_type": "markdown",
      "metadata": {
        "id": "view-in-github",
        "colab_type": "text"
      },
      "source": [
        "<a href=\"https://colab.research.google.com/github/RaquelH18/ONLINE_DS_THEBRIDGE_RAQUELH/blob/main/Parte_6_Ejercicio_POO_DS_01_02_02_N07.ipynb\" target=\"_parent\"><img src=\"https://colab.research.google.com/assets/colab-badge.svg\" alt=\"Open In Colab\"/></a>"
      ]
    },
    {
      "cell_type": "markdown",
      "metadata": {
        "id": "vigJnuAMSU4x"
      },
      "source": [
        "![TheBridge_logo_RGB_color.jpg](attachment:TheBridge_logo_RGB_color.jpg)"
      ]
    },
    {
      "cell_type": "markdown",
      "metadata": {
        "id": "2xmnwM17SU4y"
      },
      "source": [
        "![ejercicios.png](attachment:ejercicios.png)"
      ]
    },
    {
      "cell_type": "markdown",
      "metadata": {
        "id": "liorA-1ZSU4y"
      },
      "source": [
        "# Ejercicios Clases y Objetos"
      ]
    },
    {
      "cell_type": "markdown",
      "metadata": {
        "id": "5xXUz5l9SU4z"
      },
      "source": [
        "## Ejercicio 1\n",
        "Somos una empresa que tiene varias tiendas de electrodomesticos. Necesitamos un programa para manejar las tiendas, ver las ventas que han tenido, cuántos empleados hay, etc... Para ello vamos a modelizar la tienda en una clase, que tendrá las siguientes características:\n",
        "* Nombre clase: \"Tienda\"\n",
        "* Atributos comunes:\n",
        "    * Tipo: \"Electrodomésticos\"\n",
        "    * Abierta: True\n",
        "* Atributos propios de cada tienda:\n",
        "    * Nombre - String\n",
        "    * Dirección - String\n",
        "    * Número de empleados - int\n",
        "    * Ventas ultimos 3 meses - Lista de 3 numeros\n",
        "* Método para calcular las ventas de todos los meses, que devuelva un numero con todas las ventas.\n",
        "* Método que calcula la media de ventas de los ultimos meses, por empleado\n",
        "* Método que devuelve en un string el nombre de la tienda, junto con su dirección.\n",
        "* Método que obtiene las ventas del último mes.\n",
        "* Método para dar una proyección de las ventas en caso de haber invertido X dinero en marketing en esa tienda. Siendo X el parámetro de entrada. Si X es menor de 1000, las ventas de los ultimos 3 meses hubiesen sido de (1.2 x ventas), si es mayor o igual de 1000, las ventas hubiesen sido de (1.5 x venta). El método reescribe el atributo de ventas en los últimos 3 meses, y además devuelve las ventas con el aumento.\n",
        "\n",
        "Se pide:\n",
        "1. Implementar la clase \"Tienda\"\n",
        "2. Crear tres tiendas con datos inventados\n",
        "3. Comprueba en al menos una de ellas, todo lo implementado en la clase tienda (sus atributos, media de ventas, ventas/empleado...)\n",
        "3. Calcular las ventas del último mes de todas las tiendas. Para ello usa el bucle `for`\n",
        "4. Imprime por pantalla los nombres de las tiendas cuya dirección lleve el string \"Avenida\"\n",
        "5. Seguro que ya has hecho este apartado... Documenta la clase :)"
      ]
    },
    {
      "cell_type": "code",
      "execution_count": 15,
      "metadata": {
        "id": "5cLQcLxfSU4z"
      },
      "outputs": [],
      "source": [
        "class Tienda:\n",
        "    tipo = \"Electrodomésticos\"\n",
        "    abierta = True\n",
        "\n",
        "    def __init__(self, nombre, direccion, empleados, ventas_ultimos_3_meses):\n",
        "        self.nombre = nombre\n",
        "        self.direccion = direccion\n",
        "        self.empleados = empleados\n",
        "        self.ventas_ultimos_3_meses = ventas_ultimos_3_meses\n",
        "\n",
        "    def ventas_totales(self):\n",
        "        return sum(self.ventas_ultimos_3_meses)\n",
        "\n",
        "    def media_ventas_por_empleado(self):\n",
        "        if self.empleados == 0:\n",
        "            return 0\n",
        "        return self.ventas_totales() / self.empleados\n",
        "\n",
        "    def info_tienda(self):\n",
        "        return f\"{self.nombre}, {self.direccion}\"\n",
        "\n",
        "    def ventas_ultimo_mes(self):\n",
        "        return self.ventas_ultimos_3_meses[-1]\n",
        "\n",
        "    def proyectar_ventas(self, inversion_marketing):\n",
        "        aumento = 1.2 if inversion_marketing < 1000 else 1.5\n",
        "        self.ventas_ultimos_3_meses = [round(v * aumento, 2) for v in self.ventas_ultimos_3_meses]\n",
        "        return self.ventas_totales()\n",
        "\n",
        "\n"
      ]
    },
    {
      "cell_type": "code",
      "source": [
        "tienda_madrid = Tienda (\"ElectroMadrid\", \"calle Madrid 123\", 10, [1000, 2000, 1500])\n",
        "tienda_barcelona = Tienda (\"ElectroBarcelona\", \"calle Barcelona 456\", 8, [1200, 1800, 1600])\n",
        "tienda_valladolid = Tienda (\"ElectroValladolid\", \"Avenida valladolid 789\", 4, [900, 1500, 1100])\n",
        "\n",
        "print(tienda_madrid.info_tienda())\n",
        "print(\"Ventas totales:\", tienda_madrid.ventas_totales())\n",
        "print(\"Media por empleado:\", tienda_madrid.media_ventas_por_empleado())\n",
        "print(\"Ventas último mes:\", tienda_madrid.ventas_ultimo_mes())\n",
        "print(\"Ventas proyectadas con 800€:\", tienda_madrid.proyectar_ventas(800))\n",
        "print(\"Nuevas ventas:\", tienda_madrid.ventas_ultimos_3_meses)\n",
        "\n",
        "print()\n",
        "\n",
        "print(tienda_barcelona.info_tienda())\n",
        "print(\"Ventas totales:\", tienda_barcelona.ventas_totales())\n",
        "print(\"Media por empleado:\", tienda_barcelona.media_ventas_por_empleado())\n",
        "print(\"Ventas último mes:\", tienda_barcelona.ventas_ultimo_mes())\n",
        "print(\"Ventas proyectadas con 1001€:\", tienda_barcelona.proyectar_ventas(800))\n",
        "print(\"Nuevas ventas:\", tienda_barcelona.ventas_ultimos_3_meses)\n",
        "\n",
        "print()\n",
        "\n",
        "print(tienda_valladolid.info_tienda())\n",
        "print(\"Ventas totales:\", tienda_valladolid.ventas_totales())\n",
        "print(\"Media por empleado:\", tienda_valladolid.media_ventas_por_empleado())\n",
        "print(\"Ventas último mes:\", tienda_valladolid.ventas_ultimo_mes())\n",
        "print(\"Ventas proyectadas con 1001€:\", tienda_valladolid.proyectar_ventas(1001))\n",
        "print(\"Nuevas ventas:\", tienda_valladolid.ventas_ultimos_3_meses)\n",
        "\n",
        "\n"
      ],
      "metadata": {
        "id": "cfBUegciSQRo",
        "outputId": "d0b7dbdd-9942-4f9b-bcc2-3146da770f19",
        "colab": {
          "base_uri": "https://localhost:8080/"
        }
      },
      "execution_count": 24,
      "outputs": [
        {
          "output_type": "stream",
          "name": "stdout",
          "text": [
            "ElectroMadrid, calle Madrid 123\n",
            "Ventas totales: 4500\n",
            "Media por empleado: 450.0\n",
            "Ventas último mes: 1500\n",
            "Ventas proyectadas con 800€: 5400.0\n",
            "Nuevas ventas: [1200.0, 2400.0, 1800.0]\n",
            "\n",
            "ElectroBarcelona, calle Barcelona 456\n",
            "Ventas totales: 4600\n",
            "Media por empleado: 575.0\n",
            "Ventas último mes: 1600\n",
            "Ventas proyectadas con 1001€: 5520.0\n",
            "Nuevas ventas: [1440.0, 2160.0, 1920.0]\n",
            "\n",
            "ElectroValladolid, Avenida valladolid 789\n",
            "Ventas totales: 3500\n",
            "Media por empleado: 875.0\n",
            "Ventas último mes: 1100\n",
            "Ventas proyectadas con 1001€: 5250.0\n",
            "Nuevas ventas: [1350.0, 2250.0, 1650.0]\n"
          ]
        }
      ]
    },
    {
      "cell_type": "code",
      "source": [
        "print(\"📊 Ventas del último mes de todas las tiendas:\")\n",
        "todas_las_tiendas = [tienda_madrid, tienda_barcelona, tienda_valladolid]\n",
        "\n",
        "for tienda in todas_las_tiendas:\n",
        "    print(f\"{tienda.nombre}: {tienda.ventas_ultimo_mes()}€\")\n",
        "print()\n"
      ],
      "metadata": {
        "id": "J5tjfu9hUc5i",
        "outputId": "307cc77c-613e-44c0-bbd0-35aa8db7614d",
        "colab": {
          "base_uri": "https://localhost:8080/"
        }
      },
      "execution_count": 22,
      "outputs": [
        {
          "output_type": "stream",
          "name": "stdout",
          "text": [
            "📊 Ventas del último mes de todas las tiendas:\n",
            "ElectroMadrid: 1800.0€\n",
            "ElectroBarcelona: 1920.0€\n",
            "ElectroValladolid: 1650.0€\n",
            "\n"
          ]
        }
      ]
    },
    {
      "cell_type": "code",
      "source": [
        "print(\"🏙️ Tiendas ubicadas en una Avenida:\")\n",
        "for tienda in todas_las_tiendas:\n",
        "    if \"avenida\" in tienda.direccion.lower():\n",
        "        print(tienda.nombre)\n"
      ],
      "metadata": {
        "id": "IeRJZNVjUrvm",
        "outputId": "fc77ee44-5ab4-4564-ca60-0574dc7e9a7f",
        "colab": {
          "base_uri": "https://localhost:8080/"
        }
      },
      "execution_count": 27,
      "outputs": [
        {
          "output_type": "stream",
          "name": "stdout",
          "text": [
            "🏙️ Tiendas ubicadas en una Avenida:\n",
            "ElectroValladolid\n"
          ]
        }
      ]
    },
    {
      "cell_type": "markdown",
      "metadata": {
        "id": "WEBq7EpsSU40"
      },
      "source": [
        "## Ejercicio 2\n",
        "En este ejercicio vamos a implementar una clase *Perro* en Python. La clase tiene las siguientes características:\n",
        "* Cosas que sabemos seguro que tiene un perro\n",
        "    * Tiene 4 patas\n",
        "    * 2 orejas\n",
        "    * 2 ojos\n",
        "    * Una velocidad de 0. Por defecto, el perro está parado\n",
        "* Cuando se inicialice:\n",
        "    * El perro será de una determinada raza\n",
        "    * Por defecto tendrá pelo \"Marrón\", a no ser que se diga lo contrario.\n",
        "    * Por defecto no tendrá dueño, a no ser que se diga lo contrario.\n",
        "    \n",
        "* Dispondrá también de un método llamado andar, que tiene un argumento de entrada (aumento_velocidad). Este valor se le sumará a la velocidad que ya llevaba el perro.\n",
        "* Necesita otro método (parar), donde pondremos la velocidad a 0.\n",
        "* Otro método llamado \"ladrar\", que tendrá un argumento de entrada, y la salida será el siguiente string: \"GUAU!\" + el argumento de entrada.\n",
        "\n",
        "\n",
        "Se pide:\n",
        "* Implementa la clase *Perro*\n",
        "* Crea un objeto de tipo *Perro*, sin dueño\n",
        "* Comprueba que están bien todos sus atributos\n",
        "* Prueba que ande, y comprueba su velocidad\n",
        "* Páralo\n",
        "* Documenta la clase *Perro*"
      ]
    },
    {
      "cell_type": "code",
      "execution_count": 1,
      "metadata": {
        "id": "DpEWvbwGSU40"
      },
      "outputs": [],
      "source": [
        "class Perro:\n",
        "  patas = 4\n",
        "  orejas = 2\n",
        "  ojos = 2\n",
        "\n",
        "  def __init__(self, raza, pelo=\"marron\", dueño=False):\n",
        "    self.raza = raza\n",
        "    self.pelo = pelo\n",
        "    self.dueño = dueño\n",
        "    self.velocidad = 0 #perro parado por defecto\n",
        "\n",
        "  def andar(self, aumento_velocidad):\n",
        "    self.velocidad += aumento_velocidad\n",
        "\n",
        "  def parar(self):\n",
        "    self.velocidad = 0\n",
        "\n",
        "  def ladrar(self, mensaje):\n",
        "    return \"GUAU!\" + mensaje"
      ]
    },
    {
      "cell_type": "code",
      "source": [
        "mi_perro = Perro(raza =\"Huskie\")\n",
        "\n",
        "print(\"Raza\", mi_perro.raza)\n",
        "print(\"Pelo\", mi_perro.pelo)\n",
        "print(\"Dueño\", mi_perro.dueño)\n",
        "print(\"Velocidad\", mi_perro.velocidad)\n",
        "print(\"Patas\", mi_perro.patas)\n",
        "print(\"Orejas\", mi_perro.orejas)\n",
        "\n",
        "mi_perro.andar(2)\n",
        "print(\"Velocidad\", mi_perro.velocidad)\n",
        "\n",
        "mi_perro.parar()\n",
        "print(\"Velocidad\", mi_perro.velocidad)\n",
        "\n",
        "print(mi_perro.ladrar(\"guau\"))"
      ],
      "metadata": {
        "id": "1DRfGiWaMuN_",
        "outputId": "503ae0f3-cb57-4349-f67f-817ac11f68bc",
        "colab": {
          "base_uri": "https://localhost:8080/"
        }
      },
      "execution_count": 10,
      "outputs": [
        {
          "output_type": "stream",
          "name": "stdout",
          "text": [
            "Raza Huskie\n",
            "Pelo marron\n",
            "Dueño False\n",
            "Velocidad 0\n",
            "Patas 4\n",
            "Orejas 2\n",
            "Velocidad 2\n",
            "Velocidad 0\n",
            "GUAU!guau\n"
          ]
        }
      ]
    },
    {
      "cell_type": "code",
      "source": [
        "mi_perro = Perro(raza =\"Chihuahua\", pelo=\"negro\", dueño=True)\n",
        "\n",
        "print(\"Raza\", mi_perro.raza)\n",
        "print(\"Pelo\", mi_perro.pelo)\n",
        "print(\"Dueño\", mi_perro.dueño)\n",
        "print(\"Velocidad\", mi_perro.velocidad)\n",
        "print(\"Patas\", mi_perro.patas)\n",
        "print(\"Orejas\", mi_perro.orejas)\n",
        "\n",
        "mi_perro.andar(2)\n",
        "print(\"Velocidad\", mi_perro.velocidad)\n",
        "\n",
        "mi_perro.parar()\n",
        "print(\"Velocidad\", mi_perro.velocidad)\n",
        "\n",
        "print(mi_perro.ladrar(\"quiero salir a pasear!\"))"
      ],
      "metadata": {
        "id": "oGwT39H4OPfC",
        "outputId": "81e1b0aa-d805-41b3-98a7-c29dff0512e4",
        "colab": {
          "base_uri": "https://localhost:8080/"
        }
      },
      "execution_count": 11,
      "outputs": [
        {
          "output_type": "stream",
          "name": "stdout",
          "text": [
            "Raza Chihuahua\n",
            "Pelo negro\n",
            "Dueño True\n",
            "Velocidad 0\n",
            "Patas 4\n",
            "Orejas 2\n",
            "Velocidad 2\n",
            "Velocidad 0\n",
            "GUAU!quiero salir a pasear!\n"
          ]
        }
      ]
    }
  ],
  "metadata": {
    "kernelspec": {
      "display_name": "Python 3",
      "language": "python",
      "name": "python3"
    },
    "language_info": {
      "codemirror_mode": {
        "name": "ipython",
        "version": 3
      },
      "file_extension": ".py",
      "mimetype": "text/x-python",
      "name": "python",
      "nbconvert_exporter": "python",
      "pygments_lexer": "ipython3",
      "version": "3.7.9"
    },
    "colab": {
      "provenance": [],
      "include_colab_link": true
    }
  },
  "nbformat": 4,
  "nbformat_minor": 0
}