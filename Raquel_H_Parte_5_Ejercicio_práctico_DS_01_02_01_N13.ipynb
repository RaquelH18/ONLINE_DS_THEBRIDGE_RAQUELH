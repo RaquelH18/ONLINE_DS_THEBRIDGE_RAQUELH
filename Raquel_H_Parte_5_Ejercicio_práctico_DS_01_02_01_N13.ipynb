{
  "cells": [
    {
      "cell_type": "markdown",
      "metadata": {
        "id": "view-in-github",
        "colab_type": "text"
      },
      "source": [
        "<a href=\"https://colab.research.google.com/github/RaquelH18/ONLINE_DS_THEBRIDGE_RAQUELH/blob/main/Raquel_H_Parte_5_Ejercicio_pr%C3%A1ctico_DS_01_02_01_N13.ipynb\" target=\"_parent\"><img src=\"https://colab.research.google.com/assets/colab-badge.svg\" alt=\"Open In Colab\"/></a>"
      ]
    },
    {
      "cell_type": "markdown",
      "metadata": {
        "id": "9l3HMgm6RWxF"
      },
      "source": [
        "![TheBridge_logo_RGB_color.jpg](attachment:TheBridge_logo_RGB_color.jpg)"
      ]
    },
    {
      "cell_type": "markdown",
      "metadata": {
        "id": "RGg9iWpoRWxG"
      },
      "source": [
        "![ejercicios.png](attachment:ejercicios.png)"
      ]
    },
    {
      "cell_type": "markdown",
      "metadata": {
        "id": "AyOlWS2nRWxH"
      },
      "source": [
        "## PRACTICA OBLIGATORIA: COLECCIONES Y FUNCIONES"
      ]
    },
    {
      "cell_type": "markdown",
      "metadata": {
        "id": "6UOgb0KVRWxH"
      },
      "source": [
        "* La práctica obligatoria de esta unidad consiste varios ejercicios de programación libre a completar sobre Colecciones y Funciones. Descarga este notebook en tu ordenador y trabaja en local.  \n",
        "* Recuerda que debes subirla a tu repositorio personal antes de la sesión en vivo para que puntúe adecuadamente y puedas participar en dicha sesión.  \n",
        "* Recuerda también que no es necesario que esté perfecta, sólo es necesario que se vea el esfuerzo.\n",
        "* Esta práctica se resolverá en la sesión en vivo correspondiente y la solución se publicará en el repo del curso."
      ]
    },
    {
      "cell_type": "markdown",
      "metadata": {
        "id": "j3yu-tEjRWxH"
      },
      "source": [
        "### Contenidos"
      ]
    },
    {
      "cell_type": "markdown",
      "metadata": {
        "id": "kO-fLH39RWxH"
      },
      "source": [
        "## Ejercicio 1\n",
        "Eleva todos los elementos de la lista al cuadrado\n",
        "> ```ejer_2 = [1,2,3,4,5]```"
      ]
    },
    {
      "cell_type": "code",
      "execution_count": 1,
      "metadata": {
        "id": "ks5l3yi7RWxH",
        "colab": {
          "base_uri": "https://localhost:8080/"
        },
        "outputId": "2f789602-609e-4c72-9ae0-a12a8fa96a53"
      },
      "outputs": [
        {
          "output_type": "stream",
          "name": "stdout",
          "text": [
            "1\n",
            "4\n",
            "9\n",
            "16\n",
            "25\n"
          ]
        }
      ],
      "source": [
        "lista_2 = [1,2,3,4,5]\n",
        "for i in lista_2:\n",
        "    print(i**2)"
      ]
    },
    {
      "cell_type": "markdown",
      "metadata": {
        "id": "kI_Xr5oFRWxI"
      },
      "source": [
        "## Ejercicio 2\n",
        "Haz un programa que detecte todos los duplicados de un elemento en una lista:\n",
        "* Utiliza una variable duplicado para asignarle el valor del elemento del que queremos encontrar todos sus duplicados.\n",
        "* El programa debe devolver todos los índices de los elementos duplicados.\n",
        "* Aplícalo para encontrar los duplicados de \"un\", \"es\" y \"binario\" de:  \n",
        "\n",
        ">```ejer_3 = [\"Un\", \"árbol\", \"binario\", \"es\", \"una\", \"estructura\", \"de\", \"un\", \"tipo\", \"particular\", \"a\", \"veces\", \"no\", \"es\", \"ni\", \"binario\"]```\n"
      ]
    },
    {
      "cell_type": "code",
      "execution_count": 4,
      "metadata": {
        "id": "cLY9WB7YRWxI",
        "colab": {
          "base_uri": "https://localhost:8080/"
        },
        "outputId": "3ab81c4a-2dca-40e3-e0a2-9fb21c14ce71"
      },
      "outputs": [
        {
          "output_type": "stream",
          "name": "stdout",
          "text": [
            "['un', 'binario', 'es']\n"
          ]
        }
      ],
      "source": [
        "def encontrar_duplicados(lista):\n",
        "    contador = {}\n",
        "    duplicados = []\n",
        "\n",
        "    for elemento in lista:\n",
        "        if elemento in contador:\n",
        "            contador[elemento] += 1\n",
        "        else:\n",
        "            contador[elemento] = 1\n",
        "\n",
        "    for elemento, cantidad in contador.items():\n",
        "        if cantidad > 1:\n",
        "            duplicados.append(elemento)\n",
        "\n",
        "    return duplicados\n",
        "\n",
        "mi_lista = [\"Un\", \"árbol\", \"binario\", \"es\", \"una\", \"estructura\", \"de\", \"un\", \"tipo\", \"particular\", \"a\", \"veces\", \"no\", \"es\", \"ni\", \"binario\"]\n",
        "print(encontrar_duplicados(mi_lista))\n"
      ]
    },
    {
      "cell_type": "markdown",
      "metadata": {
        "id": "3WrBd5QaRWxI"
      },
      "source": [
        "## Ejercicio 3\n",
        "1. ¿Cuántas veces se repite el 3 en la siguiente tupla?\n",
        "2. Crea una tupla nueva con los elementos desde la posicion 5 a la 10.\n",
        "3. ¿Cuántos elementos tiene la tupla `ejer_3`?\n",
        "> ```ejer_9 = (3, 20, 3, 47, 19, 3, 29, 45, 67, 78, 90, 3, 3, 5, 2, 4, 7, 9, 4, 2, 4, 3, 3, 4, 6, 7)```"
      ]
    },
    {
      "cell_type": "code",
      "execution_count": 6,
      "metadata": {
        "id": "bkv_R5LYRWxI",
        "colab": {
          "base_uri": "https://localhost:8080/"
        },
        "outputId": "81561287-50a8-4763-f3b7-a013152da7dd"
      },
      "outputs": [
        {
          "output_type": "stream",
          "name": "stdout",
          "text": [
            "1. el numero 3 se repite 7 veces\n"
          ]
        }
      ],
      "source": [
        "ejer_9 = (3, 20, 3, 47, 19, 3, 29, 45, 67, 78, 90, 3, 3, 5, 2, 4, 7, 9, 4, 2, 4, 3, 3, 4, 6, 7)\n",
        "repeticiones = ejer_9.count(3)\n",
        "print(f\"1. el numero 3 se repite {repeticiones} veces\")"
      ]
    },
    {
      "cell_type": "code",
      "source": [
        "ejer_9 = (3, 20, 3, 47, 19, 3, 29, 45, 67, 78, 90, 3, 3, 5, 2, 4, 7, 9, 4, 2, 4, 3, 3, 4, 6, 7)\n",
        "#extraccion elementos 5 a 10\n",
        "nueva_tupla = ejer_9[5:11]\n",
        "print(f\"2. la nueva tupla es: {nueva_tupla}\")"
      ],
      "metadata": {
        "colab": {
          "base_uri": "https://localhost:8080/"
        },
        "id": "XH4oK7XPM2Qm",
        "outputId": "3f78df1b-89bd-431a-b949-e92cbe1ad9f0"
      },
      "execution_count": 7,
      "outputs": [
        {
          "output_type": "stream",
          "name": "stdout",
          "text": [
            "2. la nueva tupla es: (3, 29, 45, 67, 78, 90)\n"
          ]
        }
      ]
    },
    {
      "cell_type": "code",
      "source": [
        "nueva_tupla = (3, 29, 45, 67, 78, 90)\n",
        "cantidad = len(nueva_tupla)\n",
        "print(f\"3. la nueva tupla tiene {cantidad } elementos\")\n"
      ],
      "metadata": {
        "colab": {
          "base_uri": "https://localhost:8080/"
        },
        "id": "pkqjGA_SNWFB",
        "outputId": "409b2fba-8465-43ba-90c1-1726cdd0397a"
      },
      "execution_count": 8,
      "outputs": [
        {
          "output_type": "stream",
          "name": "stdout",
          "text": [
            "3. la nueva tupla tiene 6 elementos\n"
          ]
        }
      ]
    },
    {
      "cell_type": "markdown",
      "metadata": {
        "id": "6g8Y54AeRWxI"
      },
      "source": [
        "## Ejercicio 4\n",
        "Comprueba si el numero 60 esta en la tupla del ejercicio 3"
      ]
    },
    {
      "cell_type": "code",
      "execution_count": 9,
      "metadata": {
        "id": "F8VTEZonRWxI",
        "colab": {
          "base_uri": "https://localhost:8080/"
        },
        "outputId": "d8b30589-efac-47b3-9680-715a3f66d8d0"
      },
      "outputs": [
        {
          "output_type": "stream",
          "name": "stdout",
          "text": [
            "60 no esta en la tupla\n"
          ]
        }
      ],
      "source": [
        "ejer_9 = (3, 20, 3, 47, 19, 3, 29, 45, 67, 78, 90, 3, 3, 5, 2, 4, 7, 9, 4, 2, 4, 3, 3, 4, 6, 7)\n",
        "#comprobar si 60 esta en tupla\n",
        "\n",
        "if 60 in ejer_9:\n",
        "    print(\"60 esta en la tupla\")\n",
        "else:\n",
        "    print(\"60 no esta en la tupla\")"
      ]
    },
    {
      "cell_type": "markdown",
      "metadata": {
        "id": "y0fg-ZA6RWxI"
      },
      "source": [
        "## Ejercicio 5\n",
        "1. Convierte la tupla del ejercicio 3 en una lista\n",
        "2. Convierte la tupla del ejercicio 3 en un set\n",
        "3. Convierte la tupla del ejercicio 3 en un diccionario. Usa también los indices"
      ]
    },
    {
      "cell_type": "code",
      "execution_count": 10,
      "metadata": {
        "id": "_O5hXr01RWxI",
        "colab": {
          "base_uri": "https://localhost:8080/"
        },
        "outputId": "0715090b-7b60-461d-c8fd-d401a20fa8b6"
      },
      "outputs": [
        {
          "output_type": "stream",
          "name": "stdout",
          "text": [
            "1. convertido a lista: [3, 20, 3, 47, 19, 3, 29, 45, 67, 78, 90, 3, 3, 5, 2, 4, 7, 9, 4, 2, 4, 3, 3, 4, 6, 7]\n"
          ]
        }
      ],
      "source": [
        "ejer_9 = (3, 20, 3, 47, 19, 3, 29, 45, 67, 78, 90, 3, 3, 5, 2, 4, 7, 9, 4, 2, 4, 3, 3, 4, 6, 7)\n",
        "lista= (list(ejer_9))\n",
        "print(f\"1. convertido a lista: {lista}\")"
      ]
    },
    {
      "cell_type": "code",
      "source": [
        "ejer_9 = (3, 20, 3, 47, 19, 3, 29, 45, 67, 78, 90, 3, 3, 5, 2, 4, 7, 9, 4, 2, 4, 3, 3, 4, 6, 7)\n",
        "set= (set(ejer_9))\n",
        "print(f\"2. convertido a set: {set}\")"
      ],
      "metadata": {
        "colab": {
          "base_uri": "https://localhost:8080/"
        },
        "id": "JAh5DJEtOdzm",
        "outputId": "f4b3a2a5-4132-4087-85bd-e7c87505fc81"
      },
      "execution_count": 11,
      "outputs": [
        {
          "output_type": "stream",
          "name": "stdout",
          "text": [
            "2. convertido a set: {2, 3, 67, 5, 4, 7, 6, 9, 45, 78, 47, 19, 20, 90, 29}\n"
          ]
        }
      ]
    },
    {
      "cell_type": "code",
      "source": [
        "ejer_9 = (3, 20, 3, 47, 19, 3, 29, 45, 67, 78, 90, 3, 3, 5, 2, 4, 7, 9, 4, 2, 4, 3, 3, 4, 6, 7)\n",
        "diccionario = dict(enumerate(ejer_9))\n",
        "print(f\"3. convertido a diccionario: {diccionario}\")"
      ],
      "metadata": {
        "colab": {
          "base_uri": "https://localhost:8080/"
        },
        "id": "UON8_WCiOj6D",
        "outputId": "3a8a00e9-6ee4-45cf-951a-58b785e16329"
      },
      "execution_count": 12,
      "outputs": [
        {
          "output_type": "stream",
          "name": "stdout",
          "text": [
            "3. convertido a diccionario: {0: 3, 1: 20, 2: 3, 3: 47, 4: 19, 5: 3, 6: 29, 7: 45, 8: 67, 9: 78, 10: 90, 11: 3, 12: 3, 13: 5, 14: 2, 15: 4, 16: 7, 17: 9, 18: 4, 19: 2, 20: 4, 21: 3, 22: 3, 23: 4, 24: 6, 25: 7}\n"
          ]
        }
      ]
    },
    {
      "cell_type": "markdown",
      "metadata": {
        "id": "eOdWWbxvRWxJ"
      },
      "source": [
        "## Ejercicio 6\n",
        "Multiplica todos los valores del diccionario\n",
        "> ```ejer_6 = {1: 11, 2: 22, 3: 33, 4: 44, 5: 55}```"
      ]
    },
    {
      "cell_type": "code",
      "execution_count": 13,
      "metadata": {
        "id": "KcuByovKRWxJ",
        "colab": {
          "base_uri": "https://localhost:8080/"
        },
        "outputId": "3032e54f-3efc-4184-c0dd-82459cb19ada"
      },
      "outputs": [
        {
          "output_type": "stream",
          "name": "stdout",
          "text": [
            "el resultado de la multiplicacion es: 19326120\n"
          ]
        }
      ],
      "source": [
        "ejer_6 = {1: 11, 2: 22, 3: 33, 4: 44, 5: 55}\n",
        "multiplicacion = 1\n",
        "for valor in ejer_6.values():\n",
        "    multiplicacion *= valor\n",
        "print(f\"el resultado de la multiplicacion es: {multiplicacion}\")"
      ]
    },
    {
      "cell_type": "markdown",
      "metadata": {
        "id": "W7TUSaKRRWxJ"
      },
      "source": [
        "## Ejercicio 7\n",
        "\n",
        "1. Crea un diccionario que describa un libro, con los siguientes campos o claves: \"titulo\",\"autor\",\"idioma original\",\"año de publicación\".\n",
        "2. Crea un a lista, llamada librería.\n",
        "3. Añade cuatro libros a tu elección a la librería."
      ]
    },
    {
      "cell_type": "code",
      "execution_count": 22,
      "metadata": {
        "vscode": {
          "languageId": "plaintext"
        },
        "id": "d-IMRvxRRWxJ",
        "colab": {
          "base_uri": "https://localhost:8080/"
        },
        "outputId": "b3e60707-d0fc-4ebf-afb1-d9642e40adec"
      },
      "outputs": [
        {
          "output_type": "stream",
          "name": "stdout",
          "text": [
            "He creado un diccionario: {0: 'titulo', 1: 'autor', 2: 'idioma original', 3: 'año de publicación'}\n"
          ]
        }
      ],
      "source": [
        "diccionario = {0: \"titulo\", 1: \"autor\", 2: \"idioma original\", 3: \"año de publicación\"}\n",
        "print(f\"He creado un diccionario: {diccionario}\")"
      ]
    },
    {
      "cell_type": "code",
      "source": [
        "lista_libreria = [\"titulo\",\"autor\",\"idioma original\",\"año de publicación\"]\n",
        "print(f\"He creado una lista llamada libreria: {lista_libreria}\")"
      ],
      "metadata": {
        "colab": {
          "base_uri": "https://localhost:8080/"
        },
        "id": "Dr2eMIEBQhO5",
        "outputId": "44124255-ec1d-425d-87b8-0df7a42ca81b"
      },
      "execution_count": 25,
      "outputs": [
        {
          "output_type": "stream",
          "name": "stdout",
          "text": [
            "He creado una lista llamada libreria: ['titulo', 'autor', 'idioma original', 'año de publicación']\n"
          ]
        }
      ]
    },
    {
      "cell_type": "code",
      "source": [
        "lista_libreria = [\n",
        "    [\"Cien años de soledad\", \"Gabriel García Márquez\", \"Español\", 1967],\n",
        "\n",
        "    [\"El monje que vendio su ferrari\", \"Robin Sharma\", \"Español\", 1999],\n",
        "\n",
        "    [\"Don Quijote de la Mancha\", \"Miguel de Cervantes\", \"Español\", 1605],\n",
        "\n",
        "    [\"Nada importa\", \"Jesus Terres\", \"Español\", 2020]\n",
        "]\n",
        "\n",
        "print(\"He creado una lista de libros:\")\n",
        "for libro in lista_libreria:\n",
        "    titulo = libro[0]\n",
        "    autor = libro[1]\n",
        "    idioma = libro[2]\n",
        "    año = libro[3]\n",
        "    print(f\" - {titulo}, {autor} , {idioma}, {año}\")\n",
        "\n"
      ],
      "metadata": {
        "colab": {
          "base_uri": "https://localhost:8080/"
        },
        "id": "6HMT8yUrQ32O",
        "outputId": "2db35c92-97fa-4503-f417-eb02b1ba33eb"
      },
      "execution_count": 31,
      "outputs": [
        {
          "output_type": "stream",
          "name": "stdout",
          "text": [
            "He creado una lista de libros:\n",
            " - Cien años de soledad, Gabriel García Márquez , Español, 1967\n",
            " - El monje que vendio su ferrari, Robin Sharma , Español, 1999\n",
            " - Don Quijote de la Mancha, Miguel de Cervantes , Español, 1605\n",
            " - Nada importa, Jesus Terres , Español, 2020\n"
          ]
        }
      ]
    },
    {
      "cell_type": "markdown",
      "metadata": {
        "id": "glMoedjYRWxJ"
      },
      "source": [
        "## Ejercicio 8\n",
        "Modifica los valores del idioma de todos los libros del ejercicio anterior para que sea \"esperanto\"\n"
      ]
    },
    {
      "cell_type": "code",
      "execution_count": 32,
      "metadata": {
        "id": "veNdC-uwRWxJ",
        "colab": {
          "base_uri": "https://localhost:8080/"
        },
        "outputId": "13b8249e-15c9-448d-e741-418eb3ec5d31"
      },
      "outputs": [
        {
          "output_type": "stream",
          "name": "stdout",
          "text": [
            "- Cien años de soledad, por Gabriel García Márquez (1967) — Idioma: Esperanto\n",
            "- El monje que vendio su ferrari, por Robin Sharma (1999) — Idioma: Esperanto\n",
            "- Don Quijote de la Mancha, por Miguel de Cervantes (1605) — Idioma: Esperanto\n",
            "- Nada importa, por Jesus Terres (2020) — Idioma: Esperanto\n"
          ]
        }
      ],
      "source": [
        "lista_libreria = [\n",
        "    [\"Cien años de soledad\", \"Gabriel García Márquez\", \"Español\", 1967],\n",
        "\n",
        "    [\"El monje que vendio su ferrari\", \"Robin Sharma\", \"Español\", 1999],\n",
        "\n",
        "    [\"Don Quijote de la Mancha\", \"Miguel de Cervantes\", \"Español\", 1605],\n",
        "\n",
        "    [\"Nada importa\", \"Jesus Terres\", \"Español\", 2020]\n",
        "]\n",
        "\n",
        "# Cambiar el idioma de todos los libros a \"Esperanto\"\n",
        "for libro in lista_libreria:\n",
        "    libro[2] = \"Esperanto\"\n",
        "\n",
        "# Mostrar los libros actualizados\n",
        "for libro in lista_libreria:\n",
        "    print(f\"- {libro[0]}, por {libro[1]} ({libro[3]}) — Idioma: {libro[2]}\")\n"
      ]
    },
    {
      "cell_type": "markdown",
      "metadata": {
        "id": "DRCJG04KRWxJ"
      },
      "source": [
        "## Ejercicio 9\n",
        "1. Escribe un programa que dada una variable titulo busque los libros que hay en la librería con ese título. Si no se encuentra debe devolver el mensaje `Ese no lo tengo, ¿mola?`\n",
        "2. Pruena que el programa con uno de tus libros y con otro que no contenga tu librería."
      ]
    },
    {
      "cell_type": "code",
      "execution_count": 36,
      "metadata": {
        "id": "eWHdJi9BRWxJ",
        "colab": {
          "base_uri": "https://localhost:8080/"
        },
        "outputId": "8afc1997-b854-4733-cbbb-cff27a0e99bb"
      },
      "outputs": [
        {
          "output_type": "stream",
          "name": "stdout",
          "text": [
            "El libro 'Nada importa' se encuentra en la librería.\n"
          ]
        }
      ],
      "source": [
        "lista_libreria = [\n",
        "    [\"Cien años de soledad\", \"Gabriel García Márquez\", \"Español\", 1967],\n",
        "\n",
        "    [\"El monje que vendio su ferrari\", \"Robin Sharma\", \"Español\", 1999],\n",
        "\n",
        "    [\"Don Quijote de la Mancha\", \"Miguel de Cervantes\", \"Español\", 1605],\n",
        "\n",
        "    [\"Nada importa\", \"Jesus Terres\", \"Español\", 2020]\n",
        "]\n",
        "\n",
        "# Variable con el título a buscar\n",
        "titulo = \"Nada importa\"\n",
        "\n",
        "# Buscar\n",
        "encontrado = False\n",
        "for libro in lista_libreria:\n",
        "    if libro[0] == titulo:\n",
        "        encontrado = True\n",
        "        print(f\"El libro '{titulo}' se encuentra en la librería.\")\n",
        "\n",
        "# Mostrar los libros encontrados o un mensaje si no se encontraron\n",
        "if not encontrado:\n",
        "  print(f\"Ese no lo tengo, ¿mola?\")"
      ]
    },
    {
      "cell_type": "code",
      "source": [
        "lista_libreria = [\n",
        "    [\"Cien años de soledad\", \"Gabriel García Márquez\", \"Español\", 1967],\n",
        "\n",
        "    [\"El monje que vendio su ferrari\", \"Robin Sharma\", \"Español\", 1999],\n",
        "\n",
        "    [\"Don Quijote de la Mancha\", \"Miguel de Cervantes\", \"Español\", 1605],\n",
        "\n",
        "    [\"Nada importa\", \"Jesus Terres\", \"Español\", 2020]\n",
        "]\n",
        "\n",
        "# Variable con el título a buscar\n",
        "titulo = \"la breve levedad del ser\"\n",
        "\n",
        "# Buscar\n",
        "encontrado = False\n",
        "for libro in lista_libreria:\n",
        "    if libro[0] == titulo:\n",
        "        encontrado = True\n",
        "        print(f\"El libro '{titulo}' se encuentra en la librería.\")\n",
        "\n",
        "# Mostrar los libros encontrados o un mensaje si no se encontraron\n",
        "if not encontrado:\n",
        "  print(f\"Ese no lo tengo, ¿mola?\")"
      ],
      "metadata": {
        "colab": {
          "base_uri": "https://localhost:8080/"
        },
        "id": "7ThGXTeLUjWU",
        "outputId": "b57942e7-b828-47da-8060-8200eeede362"
      },
      "execution_count": 37,
      "outputs": [
        {
          "output_type": "stream",
          "name": "stdout",
          "text": [
            "Ese no lo tengo, ¿mola?\n"
          ]
        }
      ]
    },
    {
      "cell_type": "markdown",
      "metadata": {
        "id": "17YOpYuFRWxJ"
      },
      "source": [
        "## Ejercicio 10\n",
        "Convierte el programa del ejercicio 2 en una función al que se le pase el valor a buscar como un argumento posicional"
      ]
    },
    {
      "cell_type": "code",
      "execution_count": 39,
      "metadata": {
        "id": "xbj0LgvnRWxJ",
        "colab": {
          "base_uri": "https://localhost:8080/"
        },
        "outputId": "a3c49af6-c187-490f-c90d-b01accbf0c7a"
      },
      "outputs": [
        {
          "output_type": "stream",
          "name": "stdout",
          "text": [
            "'binario' está duplicado (2 veces).\n",
            "'estructura' no está duplicado.\n"
          ]
        }
      ],
      "source": [
        "def es_duplicado(lista, valor):\n",
        "    contador = {}\n",
        "\n",
        "    for elemento in lista:\n",
        "        elemento_normalizado = elemento.lower()\n",
        "        contador[elemento_normalizado] = contador.get(elemento_normalizado, 0) + 1\n",
        "\n",
        "    valor_normalizado = valor.lower()\n",
        "    if contador.get(valor_normalizado, 0) > 1:\n",
        "        return f\"'{valor}' está duplicado ({contador[valor_normalizado]} veces).\"\n",
        "    else:\n",
        "        return f\"'{valor}' no está duplicado.\"\n",
        "\n",
        "# Ejemplo\n",
        "mi_lista = [\"Un\", \"árbol\", \"binario\", \"es\", \"una\", \"estructura\", \"de\", \"un\", \"tipo\", \"particular\", \"a\", \"veces\", \"no\", \"es\", \"ni\", \"binario\"]\n",
        "print(es_duplicado(mi_lista, \"binario\"))\n",
        "print(es_duplicado(mi_lista, \"estructura\"))\n"
      ]
    },
    {
      "cell_type": "markdown",
      "metadata": {
        "id": "xZ-sWJxPRWxJ"
      },
      "source": [
        "## Ejercicio 11\n",
        "Convierte el programa del ejercicio 9 en una función al que se le pasen como argumentos la librería, posicional, y el título, argumento keyword con valor \"ninguno\", por defecto."
      ]
    },
    {
      "cell_type": "code",
      "execution_count": null,
      "metadata": {
        "id": "4-JrsMdNRWxK"
      },
      "outputs": [],
      "source": []
    },
    {
      "cell_type": "markdown",
      "metadata": {
        "id": "FtJir95QRWxK"
      },
      "source": [
        "## Ejercicio 12\n",
        "Solicitar al usuario que ingrese su dirección email. Imprimir un mensaje indicando si la dirección es válida o no, valiéndose de una función para decidirlo. Una dirección se considerará válida si contiene el símbolo \"@\"."
      ]
    },
    {
      "cell_type": "code",
      "execution_count": 45,
      "metadata": {
        "id": "sk852IZ8RWxK",
        "colab": {
          "base_uri": "https://localhost:8080/"
        },
        "outputId": "8d95388c-1b39-4425-bac9-14199754aacf"
      },
      "outputs": [
        {
          "output_type": "stream",
          "name": "stdout",
          "text": [
            "Ingrese su email: raquelita@hotmail.com\n",
            "La dirección de correo electrónico es válida.\n"
          ]
        }
      ],
      "source": [
        "def es_email_valido(email):\n",
        "  return \"@\" in email\n",
        "\n",
        "email=usuario = input(\"Ingrese su email: \")\n",
        "if es_email_valido(email):\n",
        "  print(\"La dirección de correo electrónico es válida.\")\n",
        "else:\n",
        "  print(\"La dirección de correo electrónico no es válida.\")"
      ]
    },
    {
      "cell_type": "code",
      "source": [
        "def es_email_valido(email):\n",
        "  return \"@\" in email\n",
        "\n",
        "email=usuario = input(\"Ingrese su email: \")\n",
        "if es_email_valido(email):\n",
        "  print(\"La dirección de correo electrónico es válida.\")\n",
        "else:\n",
        "  print(\"La dirección de correo electrónico no es válida.\")"
      ],
      "metadata": {
        "colab": {
          "base_uri": "https://localhost:8080/"
        },
        "id": "Fq29--rEWXGq",
        "outputId": "700694aa-99ca-467f-d573-9e817cebd271"
      },
      "execution_count": 46,
      "outputs": [
        {
          "output_type": "stream",
          "name": "stdout",
          "text": [
            "Ingrese su email: erty4567.com\n",
            "La dirección de correo electrónico no es válida.\n"
          ]
        }
      ]
    },
    {
      "cell_type": "markdown",
      "metadata": {
        "id": "Kw1MWBwBRWxK"
      },
      "source": [
        "## Ejercicio 13\n",
        "Escribe una función que compruebe si un DNI es válido, devolviendo `True` en caso afirmativo.  \n",
        "En primer lugar, el DNI debe tener entre 7 y 8 dígitos numéricos.  \n",
        "Para saber si la letra del DNI es correcta puedes utilizar el siguiente fragmento de código:\n",
        ">```Python\n",
        ">DNI= 55555555\n",
        ">palabra='TRWAGMYFPDXBNJZSQVHLCKE'\n",
        ">print('La letra del DNI es: ', palabra[DNI%23])\n",
        ">````\n"
      ]
    },
    {
      "cell_type": "code",
      "execution_count": 62,
      "metadata": {
        "id": "F5Z9rSHqRWxK",
        "colab": {
          "base_uri": "https://localhost:8080/"
        },
        "outputId": "f94e51a7-69e4-40ae-fc3c-c5b6558c5615"
      },
      "outputs": [
        {
          "output_type": "stream",
          "name": "stdout",
          "text": [
            "Ingrese su DNI: 50555670z\n",
            "✅ El DNI es válido.\n"
          ]
        }
      ],
      "source": [
        "def dni_valido(dni):\n",
        "    palabra = 'TRWAGMYFPDXBNJZSQVHLCKE'\n",
        "\n",
        "    if len(dni) < 8 or len(dni) > 9:\n",
        "        return False\n",
        "\n",
        "    numero = dni[:-1]\n",
        "    letra = dni[-1].upper()\n",
        "\n",
        "    # Verificar que los primeros caracteres sean dígitos\n",
        "    if not numero.isdigit():\n",
        "        return False\n",
        "\n",
        "    numero = int(numero)\n",
        "    letra_correcta = palabra[numero % 23]\n",
        "\n",
        "    return letra == letra_correcta\n",
        "\n",
        "# Solicitar DNI\n",
        "dni_ingresado = input(\"Ingrese su DNI: \")\n",
        "\n",
        "# Validar\n",
        "if dni_valido(dni_ingresado):\n",
        "    print(\"✅ El DNI es válido.\")\n",
        "else:\n",
        "    print(\"❌ El DNI no es válido.\")\n"
      ]
    }
  ],
  "metadata": {
    "language_info": {
      "name": "python"
    },
    "orig_nbformat": 4,
    "colab": {
      "provenance": [],
      "include_colab_link": true
    },
    "kernelspec": {
      "name": "python3",
      "display_name": "Python 3"
    }
  },
  "nbformat": 4,
  "nbformat_minor": 0
}