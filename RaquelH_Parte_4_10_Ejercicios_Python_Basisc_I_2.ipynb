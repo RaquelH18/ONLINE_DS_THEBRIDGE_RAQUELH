{
  "cells": [
    {
      "cell_type": "markdown",
      "metadata": {
        "id": "GB2K42EgK9q5"
      },
      "source": [
        "![TheBridge_logo_RGB_color.jpg](attachment:TheBridge_logo_RGB_color.jpg)"
      ]
    },
    {
      "cell_type": "markdown",
      "metadata": {
        "id": "GnwVlO37K9q6"
      },
      "source": [
        "![imagen](./img/ejercicios.png)"
      ]
    },
    {
      "cell_type": "markdown",
      "metadata": {
        "id": "_9pTa0PXK9q6"
      },
      "source": [
        "## EJERCICIOS PYTHON BASICO 2:\n",
        "## Tipos y conversión de tipos"
      ]
    },
    {
      "cell_type": "markdown",
      "metadata": {
        "id": "tYmV-veoK9q6"
      },
      "source": [
        "Completa los siguiente ejercicios, la solución a los mismos se publicarán en el repo del curso a lo largo del sprint"
      ]
    },
    {
      "cell_type": "markdown",
      "metadata": {
        "id": "YAdFbIOXK9q7"
      },
      "source": [
        "![ejercicio.png](./img/ejercicio.png)\n",
        "\n",
        "## Ejercicio 1\n",
        "\n",
        "1. Crea dos variables numericas: un `int` y un `float`\n",
        "2. Comprueba sus tipos\n",
        "3. Sumalas en otra nueva\n",
        "4. ¿De qué tipo es la nueva variable?\n",
        "5. Elimina las dos primeras variables creadas"
      ]
    },
    {
      "cell_type": "code",
      "execution_count": 4,
      "metadata": {
        "id": "8QZmuLOsK9q7",
        "outputId": "791a0c86-9b1a-4af8-b3fd-dea7f1059d31",
        "colab": {
          "base_uri": "https://localhost:8080/"
        }
      },
      "outputs": [
        {
          "output_type": "stream",
          "name": "stdout",
          "text": [
            "33\n",
            "3.3\n",
            "<class 'int'>\n",
            "<class 'float'>\n",
            "36.3\n",
            "<class 'float'>\n"
          ]
        }
      ],
      "source": [
        "variable1 = 33\n",
        "print(variable1)\n",
        "variable2 = 3.3\n",
        "print(variable2)\n",
        "print(type(variable1))\n",
        "print(type(variable2))\n",
        "#SUMA\n",
        "suma = (variable1 + variable2)\n",
        "print(suma)\n",
        "print(type(suma))\n",
        "\n",
        "#Eliminar variables Crueldad\n",
        "\n",
        "del variable1\n",
        "del variable2\n",
        "\n",
        "\n",
        "\n",
        "\n"
      ]
    },
    {
      "cell_type": "markdown",
      "metadata": {
        "id": "f5xfpkpQK9q7"
      },
      "source": [
        "![ejercicio.png](./img/ejercicio.png)\n",
        "\n",
        "## Ejercicio 2\n",
        "Escribe un programa para pasar de grados a radianes. Hay que usar `input`. Recuerda que la conversión se realiza mediante\n",
        "\n",
        "radianes = grados*(pi/180)"
      ]
    },
    {
      "cell_type": "code",
      "execution_count": 1,
      "metadata": {
        "id": "V50TUQMzK9q7",
        "colab": {
          "base_uri": "https://localhost:8080/"
        },
        "outputId": "ecc7cbf6-1b1d-46a0-8983-a1b577e69029"
      },
      "outputs": [
        {
          "output_type": "stream",
          "name": "stdout",
          "text": [
            "Introduce los grados que quieres convertir a radianes: 30\n",
            "30.0 grados equivalen a 0.5236 radianes.\n"
          ]
        }
      ],
      "source": [
        "import math  # Importamos el módulo para usar pi\n",
        "\n",
        "# Pedimos al usuario que introduzca los grados\n",
        "grados = float(input(\"Introduce los grados que quieres convertir a radianes: \"))\n",
        "\n",
        "# Realizamos la conversión\n",
        "radianes = grados * (math.pi / 180)\n",
        "\n",
        "# Mostramos el resultado\n",
        "print(f\"{grados} grados equivalen a {radianes:.4f} radianes.\")"
      ]
    },
    {
      "cell_type": "markdown",
      "metadata": {
        "id": "zX3-p58CK9q7"
      },
      "source": [
        "![ejercicio.png](./img/ejercicio.png)\n",
        "\n",
        "## Ejercicio 3\n",
        "Escribe un programa que calcule el area de un paralelogramo (base x altura). También con `input`"
      ]
    },
    {
      "cell_type": "code",
      "source": [
        "# Area = Base X Altura\n",
        "base = int(input(\"introduce la base del paralelogramo:\"))\n",
        "altura = int(input(\"introduce la altura del paralelogramo:\"))\n",
        "Area = base * altura\n",
        "print(f\"El area del paralelogramo es: {area}\")"
      ],
      "metadata": {
        "colab": {
          "base_uri": "https://localhost:8080/"
        },
        "id": "TfBsjf_MsPmK",
        "outputId": "0f057f1a-f52f-47c3-c0a5-ccb015b2866e"
      },
      "execution_count": 13,
      "outputs": [
        {
          "output_type": "stream",
          "name": "stdout",
          "text": [
            "introduce la base del paralelogramo:10\n",
            "introduce la altura del paralelogramo:20\n",
            "El area del paralelogramo es: 100.0\n"
          ]
        }
      ]
    },
    {
      "cell_type": "markdown",
      "metadata": {
        "id": "-6TBo_HvK9q8"
      },
      "source": [
        "![ejercicio.png](./img/ejercicio.png)\n",
        "\n",
        "## Ejercicio 4\n",
        "Escribe un programa que calcule el area de un paralelogramo (base x altura). También con `input`. En este caso debe ser capaz de admitir valores reales, con decimales, para base y altura en español. (PISTA: Recuerda que tendrás que hacer uso del método replace)"
      ]
    },
    {
      "cell_type": "code",
      "source": [
        "# Area = Base X Altura decimales con replace de , por .\n",
        "base = (input(\"introduce la base del paralelogramo:\"))\n",
        "base = float(base.replace(',', '.'))\n",
        "altura = input(\"Introduce la altura del paralelogramo (puedes usar coma para decimales): \")\n",
        "# Convertimos la coma en punto y luego a float\n",
        "altura = float(altura.replace(',', '.'))\n",
        "\n",
        "area = base * altura\n",
        "\n",
        "# Mostramos el resultado\n",
        "print(f\"El área del paralelogramo es: {area:.2f} unidades\")\n",
        "\n"
      ],
      "metadata": {
        "colab": {
          "base_uri": "https://localhost:8080/"
        },
        "id": "9BPHHhnSvhcX",
        "outputId": "9f1f2976-bd3d-4ec8-f679-e70811c4784a"
      },
      "execution_count": 22,
      "outputs": [
        {
          "output_type": "stream",
          "name": "stdout",
          "text": [
            "introduce la base del paralelogramo:2,5\n",
            "Introduce la altura del paralelogramo (puedes usar coma para decimales): 5,5\n",
            "El área del paralelogramo es: 13.75 unidades\n"
          ]
        }
      ]
    },
    {
      "cell_type": "markdown",
      "metadata": {
        "id": "5zKugi5iK9q8"
      },
      "source": [
        "![ejercicio.png](./img/ejercicio.png)\n",
        "\n",
        "## Ejercicio 5\n",
        "Complete el siguiente código para solicitar al usuario su nombre y su edad. Luego, calcule en qué año nació el usuario y muestre el resultado."
      ]
    },
    {
      "cell_type": "code",
      "execution_count": 27,
      "metadata": {
        "id": "LISfTnRkK9q8",
        "colab": {
          "base_uri": "https://localhost:8080/"
        },
        "outputId": "d30287a0-9c0e-4326-c83f-2d56a78b2a66"
      },
      "outputs": [
        {
          "output_type": "stream",
          "name": "stdout",
          "text": [
            "¿Cuál es tu nombre? Raquel\n",
            "¿Cuál es tu edad? 36\n",
            "Raquel, naciste en el año 1989.\n"
          ]
        }
      ],
      "source": [
        "nombre = (input(\"¿Cuál es tu nombre? \"))\n",
        "edad = (input(\"¿Cuál es tu edad? \"))\n",
        "año_actual = 2025  #año en curso\n",
        "año_nacimiento = año_actual - int(edad)\n",
        "\n",
        "print(f\"{nombre}, naciste en el año {año_nacimiento}.\")\n"
      ]
    },
    {
      "cell_type": "code",
      "source": [
        "from datetime import datetime\n",
        "\n",
        "nombre = input(\"¿Cuál es tu nombre? \")\n",
        "edad = input(\"¿Cuál es tu edad? \")\n",
        "mes_nacimiento = input(\"¿En qué mes naciste? (1-12) \")\n",
        "\n",
        "try:\n",
        "    edad = int(edad)\n",
        "    mes_nacimiento = int(mes_nacimiento)\n",
        "\n",
        "    hoy = datetime.today()\n",
        "    año_actual = hoy.year\n",
        "    mes_actual = hoy.month\n",
        "\n",
        "    # Si aún no ha cumplido años este año, restamos uno más\n",
        "    if mes_nacimiento > mes_actual:\n",
        "        año_nacimiento = año_actual - edad - 1\n",
        "    else:\n",
        "        año_nacimiento = año_actual - edad\n",
        "\n",
        "    print(f\"{nombre}, naciste en el año {año_nacimiento}.\")\n",
        "except ValueError:\n",
        "    print(\"Por favor, introduce tu edad y mes como números válidos.\")\n",
        "\n"
      ],
      "metadata": {
        "colab": {
          "base_uri": "https://localhost:8080/"
        },
        "id": "1TVaRP1oyVX6",
        "outputId": "0566ac8e-96a6-4a84-c38d-df39567164a3"
      },
      "execution_count": 39,
      "outputs": [
        {
          "output_type": "stream",
          "name": "stdout",
          "text": [
            "¿Cuál es tu nombre? Manuela\n",
            "¿Cuál es tu edad? 64\n",
            "¿En qué mes naciste? (1-12) 12\n",
            "Manuela, naciste en el año 1960.\n"
          ]
        }
      ]
    }
  ],
  "metadata": {
    "kernelspec": {
      "display_name": "Curso_Online_DATA",
      "language": "python",
      "name": "python3"
    },
    "language_info": {
      "codemirror_mode": {
        "name": "ipython",
        "version": 3
      },
      "file_extension": ".py",
      "mimetype": "text/x-python",
      "name": "python",
      "nbconvert_exporter": "python",
      "pygments_lexer": "ipython3",
      "version": "3.11.5"
    },
    "orig_nbformat": 4,
    "colab": {
      "provenance": []
    }
  },
  "nbformat": 4,
  "nbformat_minor": 0
}